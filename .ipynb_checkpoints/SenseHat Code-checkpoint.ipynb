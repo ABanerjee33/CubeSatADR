{
 "cells": [
  {
   "cell_type": "code",
<<<<<<< HEAD
   "execution_count": 1,
   "metadata": {},
   "outputs": [
    {
     "ename": "ModuleNotFoundError",
     "evalue": "No module named 'sense_hat'",
     "output_type": "error",
     "traceback": [
      "\u001b[1;31m---------------------------------------------------------------------------\u001b[0m",
      "\u001b[1;31mModuleNotFoundError\u001b[0m                       Traceback (most recent call last)",
      "\u001b[1;32m<ipython-input-1-2b5c257addbc>\u001b[0m in \u001b[0;36m<module>\u001b[1;34m\u001b[0m\n\u001b[0;32m      1\u001b[0m \u001b[1;31m#this imports the Sensehat library\u001b[0m\u001b[1;33m\u001b[0m\u001b[1;33m\u001b[0m\u001b[1;33m\u001b[0m\u001b[0m\n\u001b[1;32m----> 2\u001b[1;33m \u001b[1;32mfrom\u001b[0m \u001b[0msense_hat\u001b[0m \u001b[1;32mimport\u001b[0m \u001b[0mSenseHat\u001b[0m\u001b[1;33m\u001b[0m\u001b[1;33m\u001b[0m\u001b[0m\n\u001b[0m\u001b[0;32m      3\u001b[0m \u001b[1;33m\u001b[0m\u001b[0m\n\u001b[0;32m      4\u001b[0m \u001b[1;31m#creates an object sense\u001b[0m\u001b[1;33m\u001b[0m\u001b[1;33m\u001b[0m\u001b[1;33m\u001b[0m\u001b[0m\n\u001b[0;32m      5\u001b[0m \u001b[0msense\u001b[0m \u001b[1;33m=\u001b[0m \u001b[0mSenseHat\u001b[0m\u001b[1;33m(\u001b[0m\u001b[1;33m)\u001b[0m\u001b[1;33m\u001b[0m\u001b[1;33m\u001b[0m\u001b[0m\n",
      "\u001b[1;31mModuleNotFoundError\u001b[0m: No module named 'sense_hat'"
     ]
    }
   ],
   "source": [
    "#this imports the Sensehat library\n",
    "from sense_hat import SenseHat \n",
=======
   "execution_count": null,
   "metadata": {
    "scrolled": true
   },
   "outputs": [],
   "source": [
    "#this imports the Sensehat library\n",
    "from sense_hat import SenseHat \n",
    "from time import sleep\n",
>>>>>>> 90baedf255395f920df27816e69d847a22b4f64d
    "\n",
    "#creates an object sense\n",
    "sense = SenseHat() \n",
    "\n",
    "red = (252, 177, 3)\n",
<<<<<<< HEAD
    "sense.show_message(\"Sending Info\", text_colour = red, scroll_speed = 0.05)\n",
=======
    "sense.show_message(\"Avik sending info\", text_colour = red, scroll_speed = 0.1)\n",
>>>>>>> 90baedf255395f920df27816e69d847a22b4f64d
    "print(\"Telemetry Packet:\")\n",
    "print(\" \")\n",
    "\n",
    "#Creating an image on the led matrix\n",
    "X = [255, 0, 0]  # Red\n",
    "O = [255, 255, 255]  # White\n",
    "\n",
    "question_mark = [\n",
<<<<<<< HEAD
    "O, O, O, X, X, O, O, O,\n",
=======
    "O, O, O, X, X, X, O, O,\n",
>>>>>>> 90baedf255395f920df27816e69d847a22b4f64d
    "O, O, X, O, O, X, O, O,\n",
    "O, O, O, O, O, X, O, O,\n",
    "O, O, O, O, X, O, O, O,\n",
    "O, O, O, X, O, O, O, O,\n",
    "O, O, O, X, O, O, O, O,\n",
    "O, O, O, O, O, O, O, O,\n",
    "O, O, O, X, O, O, O, O\n",
    "]\n",
    "\n",
    "sense.set_pixels(question_mark)\n",
    "\n",
    "#Collecting RPY Data\n",
    "#get_orientation a dictionary (a key-value pair) from which you can access corresponding RPY values in degrees\n",
    "orientation = sense.get_orientation() \n",
    "print(\"pitch: {pitch}\".format(**orientation))\n",
    "print(\"roll: {roll}\".format(**orientation))\n",
    "print(\"yaw: {yaw}\".format(**orientation))\n",
    "\n",
    "\n",
<<<<<<< HEAD
    "#Print heading relative to magnetic north\n",
    "north = sense.get_compass()\n",
    "print(\"North: %s\" % north)\n",
=======
    "#Print heading relative to magnetic north but it shuts off gyrocope and accelerometer\n",
    "#north = sense.get_compass()\n",
    "#print(\"North: %s\" % north)\n",
    "\n",
    "#Turn the gyroscope and accelerometer back on\n",
    "sense.set_imu_config(True, True, True)\n",
>>>>>>> 90baedf255395f920df27816e69d847a22b4f64d
    "\n",
    "\n",
    "#Collecting enviornmental info\n",
    "#Obtains relative humidity\n",
    "humidity = sense.get_humidity()\n",
    "print(\"Humidity: %s %%rH\" % humidity) \n",
    "\n",
    "#Gets temperature in degrees celcius\n",
    "temp = sense.get_temperature()\n",
    "print(\"Temperature: %s C\" % temp)\n",
    "\n",
    "#gets pressure in Millibars\n",
    "pressure = sense.get_pressure()\n",
<<<<<<< HEAD
    "print(\"Pressure: %s Millibars\" % pressure)\n"
=======
    "print(\"Pressure: %s Millibars\" % pressure)\n",
    "sleep(5)\n",
    "sense.clear()\n",
    "\n"
   ]
  },
  {
   "cell_type": "code",
   "execution_count": 2,
   "metadata": {
    "scrolled": true
   },
   "outputs": [
    {
     "name": "stdout",
     "output_type": "stream",
     "text": [
      "Telemetry Packet Stored\n"
     ]
    }
   ],
   "source": [
    "#this libraries\n",
    "from sense_hat import SenseHat \n",
    "from time import sleep\n",
    "from datetime import datetime\n",
    "import pandas as pd\n",
    "\n",
    "#creates an object sense\n",
    "sense = SenseHat() \n",
    "\n",
    "#Create a .csv Telemetry Packet\n",
    "\n",
    "#Create initial pandas dataframe for sensor data\n",
    "orientation = sense.get_orientation() \n",
    "data = orientation\n",
    "df = pd.DataFrame([orientation])\n",
    "#Create a list containing that dataframe\n",
    "empty_list = [df]\n",
    "\n",
    "#Create an integer variable i\n",
    "i = 0\n",
    "\n",
    "#Create a while loop to continously collect RPY data from SenseHAT\n",
    "while (i < 20):\n",
    "    data = sense.get_orientation() \n",
    "    empty_list.append(pd.DataFrame([data]))\n",
    "    sleep(1)\n",
    "    i += 1\n",
    "\n",
    "print(\"Telemetry Packet Stored\")\n",
    "\n",
    "#Save all data frames into the list\n",
    "result = pd.concat(empty_list, ignore_index = True)\n",
    "#Set the .csv filename and file_path\n",
    "file_path = \"/home/pi/Desktop/SeniorResearch/TelemetryPackets/TelemetryPacket_\" + str(datetime.now()) + \".csv\"\n",
    "#Export data into a csv and safe it to TelemetryPackets\n",
    "result.to_csv(file_path, index = False)\n",
    "\n"
   ]
  },
  {
   "cell_type": "code",
   "execution_count": null,
   "metadata": {
    "scrolled": true
   },
   "outputs": [],
   "source": [
    "#Camera Script\n",
    "from picamera import PiCamera\n",
    "from time import sleep\n",
    "\n",
    "camera = PiCamera()\n",
    "camera.rotation = 180\n",
    "camera.start_preview()\n",
    "sleep(5)\n",
    "camera.stop_preview()"
   ]
  },
  {
   "cell_type": "code",
   "execution_count": null,
   "metadata": {
    "scrolled": true
   },
   "outputs": [],
   "source": [
    "# Tester\n",
    "# Checking Roll Pitch Yaw Data\n",
    "from sense_hat import SenseHat \n",
    "sense = SenseHat() \n",
    "from time import sleep\n",
    "\n",
    "while True:\n",
    "    orientation = sense.get_orientation() \n",
    "    print(\"pitch: {pitch}\".format(**orientation))\n",
    "    print(\"roll: {roll}\".format(**orientation))\n",
    "    print(\"yaw: \" + str(orientation['yaw'] - 135))\n",
    "    time.sleep(1)\n",
    "    "
>>>>>>> 90baedf255395f920df27816e69d847a22b4f64d
   ]
  },
  {
   "cell_type": "code",
   "execution_count": null,
   "metadata": {},
   "outputs": [],
   "source": []
  }
 ],
 "metadata": {
  "kernelspec": {
   "display_name": "Python 3",
   "language": "python",
   "name": "python3"
  },
  "language_info": {
   "codemirror_mode": {
    "name": "ipython",
    "version": 3
   },
   "file_extension": ".py",
   "mimetype": "text/x-python",
   "name": "python",
   "nbconvert_exporter": "python",
   "pygments_lexer": "ipython3",
<<<<<<< HEAD
   "version": "3.8.5"
=======
   "version": "3.7.3"
>>>>>>> 90baedf255395f920df27816e69d847a22b4f64d
  }
 },
 "nbformat": 4,
 "nbformat_minor": 4
}
