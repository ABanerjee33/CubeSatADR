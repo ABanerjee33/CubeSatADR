{
 "cells": [
  {
   "cell_type": "code",
   "execution_count": 1,
   "metadata": {},
   "outputs": [
    {
     "ename": "ModuleNotFoundError",
     "evalue": "No module named 'sense_hat'",
     "output_type": "error",
     "traceback": [
      "\u001b[1;31m---------------------------------------------------------------------------\u001b[0m",
      "\u001b[1;31mModuleNotFoundError\u001b[0m                       Traceback (most recent call last)",
      "\u001b[1;32m<ipython-input-1-2b5c257addbc>\u001b[0m in \u001b[0;36m<module>\u001b[1;34m\u001b[0m\n\u001b[0;32m      1\u001b[0m \u001b[1;31m#this imports the Sensehat library\u001b[0m\u001b[1;33m\u001b[0m\u001b[1;33m\u001b[0m\u001b[1;33m\u001b[0m\u001b[0m\n\u001b[1;32m----> 2\u001b[1;33m \u001b[1;32mfrom\u001b[0m \u001b[0msense_hat\u001b[0m \u001b[1;32mimport\u001b[0m \u001b[0mSenseHat\u001b[0m\u001b[1;33m\u001b[0m\u001b[1;33m\u001b[0m\u001b[0m\n\u001b[0m\u001b[0;32m      3\u001b[0m \u001b[1;33m\u001b[0m\u001b[0m\n\u001b[0;32m      4\u001b[0m \u001b[1;31m#creates an object sense\u001b[0m\u001b[1;33m\u001b[0m\u001b[1;33m\u001b[0m\u001b[1;33m\u001b[0m\u001b[0m\n\u001b[0;32m      5\u001b[0m \u001b[0msense\u001b[0m \u001b[1;33m=\u001b[0m \u001b[0mSenseHat\u001b[0m\u001b[1;33m(\u001b[0m\u001b[1;33m)\u001b[0m\u001b[1;33m\u001b[0m\u001b[1;33m\u001b[0m\u001b[0m\n",
      "\u001b[1;31mModuleNotFoundError\u001b[0m: No module named 'sense_hat'"
     ]
    }
   ],
   "source": [
    "#this imports the Sensehat library\n",
    "from sense_hat import SenseHat \n",
    "\n",
    "#creates an object sense\n",
    "sense = SenseHat() \n",
    "\n",
    "red = (252, 177, 3)\n",
    "sense.show_message(\"Sending Info\", text_colour = red, scroll_speed = 0.05)\n",
    "print(\"Telemetry Packet:\")\n",
    "print(\" \")\n",
    "\n",
    "#Creating an image on the led matrix\n",
    "X = [255, 0, 0]  # Red\n",
    "O = [255, 255, 255]  # White\n",
    "\n",
    "question_mark = [\n",
    "O, O, O, X, X, X, O, O,\n",
    "O, O, X, O, O, X, O, O,\n",
    "O, O, O, O, O, X, O, O,\n",
    "O, O, O, O, X, O, O, O,\n",
    "O, O, O, X, O, O, O, O,\n",
    "O, O, O, X, O, O, O, O,\n",
    "O, O, O, O, O, O, O, O,\n",
    "O, O, O, X, O, O, O, O\n",
    "]\n",
    "\n",
    "sense.set_pixels(question_mark)\n",
    "\n",
    "#Collecting RPY Data\n",
    "#get_orientation a dictionary (a key-value pair) from which you can access corresponding RPY values in degrees\n",
    "orientation = sense.get_orientation() \n",
    "print(\"pitch: {pitch}\".format(**orientation))\n",
    "print(\"roll: {roll}\".format(**orientation))\n",
    "print(\"yaw: {yaw}\".format(**orientation))\n",
    "\n",
    "\n",
    "#Print heading relative to magnetic north\n",
    "north = sense.get_compass()\n",
    "print(\"North: %s\" % north)\n",
    "\n",
    "\n",
    "#Collecting enviornmental info\n",
    "#Obtains relative humidity\n",
    "humidity = sense.get_humidity()\n",
    "print(\"Humidity: %s %%rH\" % humidity) \n",
    "\n",
    "#Gets temperature in degrees celcius\n",
    "temp = sense.get_temperature()\n",
    "print(\"Temperature: %s C\" % temp)\n",
    "\n",
    "#gets pressure in Millibars\n",
    "pressure = sense.get_pressure()\n",
    "print(\"Pressure: %s Millibars\" % pressure)\n"
   ]
  },
  {
   "cell_type": "code",
   "execution_count": null,
   "metadata": {},
   "outputs": [],
   "source": []
  }
 ],
 "metadata": {
  "kernelspec": {
   "display_name": "Python 3",
   "language": "python",
   "name": "python3"
  },
  "language_info": {
   "codemirror_mode": {
    "name": "ipython",
    "version": 3
   },
   "file_extension": ".py",
   "mimetype": "text/x-python",
   "name": "python",
   "nbconvert_exporter": "python",
   "pygments_lexer": "ipython3",
   "version": "3.8.5"
  }
 },
 "nbformat": 4,
 "nbformat_minor": 4
}
